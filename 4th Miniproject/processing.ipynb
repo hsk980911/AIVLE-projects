{
 "cells": [
  {
   "cell_type": "markdown",
   "id": "6dabbd28-5678-4b98-86ca-719390c2c121",
   "metadata": {
    "tags": []
   },
   "source": [
    "# 띄어 쓰기"
   ]
  },
  {
   "cell_type": "code",
   "execution_count": 1,
   "id": "cc62d484-f807-4759-a171-9e065e43e30a",
   "metadata": {},
   "outputs": [],
   "source": [
    "import pandas as pd\n",
    "from pykospacing import Spacing\n",
    "from tqdm import tqdm\n",
    "\n",
    "spacing = Spacing()\n",
    "spam = pd.read_csv('spam_test_text.csv', encoding = 'UTF-8', index_col = 0)\n",
    "spam.dropna(axis=0, inplace = True)"
   ]
  },
  {
   "cell_type": "code",
   "execution_count": 2,
   "id": "09acb055-19e2-4ac2-a919-e8542ed826ab",
   "metadata": {},
   "outputs": [
    {
     "name": "stderr",
     "output_type": "stream",
     "text": [
      "100%|██████████| 9896/9896 [05:27<00:00, 30.17it/s]\n"
     ]
    }
   ],
   "source": [
    "spaced_text = []\n",
    "\n",
    "for i in tqdm(spam['text']):\n",
    "    new_str = spacing(i)\n",
    "    spaced_text.append(new_str)"
   ]
  },
  {
   "cell_type": "code",
   "execution_count": 9,
   "id": "31ea16bb-e98a-45b0-b7f4-7c1fa59d0289",
   "metadata": {},
   "outputs": [],
   "source": [
    "new_df = pd.DataFrame({'text':spaced_text})\n",
    "new_df.to_csv('spaced_spam_test_text.csv')"
   ]
  },
  {
   "cell_type": "code",
   "execution_count": 10,
   "id": "670081f6-ead0-4b45-827f-c4ad1f702eb8",
   "metadata": {},
   "outputs": [
    {
     "data": {
      "text/html": [
       "<div>\n",
       "<style scoped>\n",
       "    .dataframe tbody tr th:only-of-type {\n",
       "        vertical-align: middle;\n",
       "    }\n",
       "\n",
       "    .dataframe tbody tr th {\n",
       "        vertical-align: top;\n",
       "    }\n",
       "\n",
       "    .dataframe thead th {\n",
       "        text-align: right;\n",
       "    }\n",
       "</style>\n",
       "<table border=\"1\" class=\"dataframe\">\n",
       "  <thead>\n",
       "    <tr style=\"text-align: right;\">\n",
       "      <th></th>\n",
       "      <th>text</th>\n",
       "    </tr>\n",
       "  </thead>\n",
       "  <tbody>\n",
       "    <tr>\n",
       "      <th>0</th>\n",
       "      <td>[Web발신] (광고)[강남시 셔츠]대륙 쵸이스 문의\" \"홈phttp://bit. ...</td>\n",
       "    </tr>\n",
       "    <tr>\n",
       "      <th>1</th>\n",
       "      <td>[Web발신] (광고).님 한.건.당..원무료 거부</td>\n",
       "    </tr>\n",
       "    <tr>\n",
       "      <th>2</th>\n",
       "      <td>[Web발신] 이태용 님 월 일자 전해드리는 정보 ! 밑져야 본전 !pf. kaka...</td>\n",
       "    </tr>\n",
       "    <tr>\n",
       "      <th>3</th>\n",
       "      <td>[Web발신] 달서구 마지막 억대 분양성당 태왕 아너스 평형무순위 접수 중 청약통장...</td>\n",
       "    </tr>\n",
       "    <tr>\n",
       "      <th>4</th>\n",
       "      <td>[Web발신] (광고) 개인 업오늘 하루만% 연체나 부결도 OK카카오 ID: HK ...</td>\n",
       "    </tr>\n",
       "    <tr>\n",
       "      <th>...</th>\n",
       "      <td>...</td>\n",
       "    </tr>\n",
       "    <tr>\n",
       "      <th>9891</th>\n",
       "      <td>[Web발신] 냉온 정수기 원비데원 공기청정기 평원 제습기.원전 기렌 지원</td>\n",
       "    </tr>\n",
       "    <tr>\n",
       "      <th>9892</th>\n",
       "      <td>(광고) 스파클링 유흥 다이소 선정릉 모바일 앱 http://bIt.Ly/LBj V...</td>\n",
       "    </tr>\n",
       "    <tr>\n",
       "      <th>9893</th>\n",
       "      <td>(광고) 주행 ok.님 막힘 없는 배정! 무료 수신 거부..</td>\n",
       "    </tr>\n",
       "    <tr>\n",
       "      <th>9894</th>\n",
       "      <td>(광고) 대게 수산 '문자쿠폰 행사' 킹크랩 원-&gt;원(물량 소진 시까지) 무료 거부</td>\n",
       "    </tr>\n",
       "    <tr>\n",
       "      <th>9895</th>\n",
       "      <td>MMS 스팸신고나이가 들수록 그 사람의 인생이 얼굴에서 나타난다고 합니다. 웃으며 ...</td>\n",
       "    </tr>\n",
       "  </tbody>\n",
       "</table>\n",
       "<p>9896 rows × 1 columns</p>\n",
       "</div>"
      ],
      "text/plain": [
       "                                                   text\n",
       "0     [Web발신] (광고)[강남시 셔츠]대륙 쵸이스 문의\" \"홈phttp://bit. ...\n",
       "1                          [Web발신] (광고).님 한.건.당..원무료 거부\n",
       "2     [Web발신] 이태용 님 월 일자 전해드리는 정보 ! 밑져야 본전 !pf. kaka...\n",
       "3     [Web발신] 달서구 마지막 억대 분양성당 태왕 아너스 평형무순위 접수 중 청약통장...\n",
       "4     [Web발신] (광고) 개인 업오늘 하루만% 연체나 부결도 OK카카오 ID: HK ...\n",
       "...                                                 ...\n",
       "9891          [Web발신] 냉온 정수기 원비데원 공기청정기 평원 제습기.원전 기렌 지원\n",
       "9892  (광고) 스파클링 유흥 다이소 선정릉 모바일 앱 http://bIt.Ly/LBj V...\n",
       "9893                  (광고) 주행 ok.님 막힘 없는 배정! 무료 수신 거부..\n",
       "9894     (광고) 대게 수산 '문자쿠폰 행사' 킹크랩 원->원(물량 소진 시까지) 무료 거부\n",
       "9895  MMS 스팸신고나이가 들수록 그 사람의 인생이 얼굴에서 나타난다고 합니다. 웃으며 ...\n",
       "\n",
       "[9896 rows x 1 columns]"
      ]
     },
     "execution_count": 10,
     "metadata": {},
     "output_type": "execute_result"
    }
   ],
   "source": [
    "new_df"
   ]
  },
  {
   "cell_type": "markdown",
   "id": "b8a9e368-29dd-4400-a394-e4f3ee52dd60",
   "metadata": {},
   "source": [
    "# 불용어 처리"
   ]
  },
  {
   "cell_type": "code",
   "execution_count": 4,
   "id": "187ab6f0-638e-46fa-a87a-95a2fc8d2fba",
   "metadata": {},
   "outputs": [],
   "source": [
    "import pandas as pd\n",
    "from pykospacing import Spacing\n",
    "from tqdm import tqdm\n",
    "\n",
    "spaced_spam = pd.read_csv('spaced_spam.csv', encoding = 'UTF-8', index_col = 0)\n",
    "spaced_spam.dropna(axis=0, inplace = True)"
   ]
  },
  {
   "cell_type": "code",
   "execution_count": 6,
   "id": "951eabcf-67ee-4819-9d01-16f2a2e8189c",
   "metadata": {},
   "outputs": [
    {
     "data": {
      "text/html": [
       "<div>\n",
       "<style scoped>\n",
       "    .dataframe tbody tr th:only-of-type {\n",
       "        vertical-align: middle;\n",
       "    }\n",
       "\n",
       "    .dataframe tbody tr th {\n",
       "        vertical-align: top;\n",
       "    }\n",
       "\n",
       "    .dataframe thead th {\n",
       "        text-align: right;\n",
       "    }\n",
       "</style>\n",
       "<table border=\"1\" class=\"dataframe\">\n",
       "  <thead>\n",
       "    <tr style=\"text-align: right;\">\n",
       "      <th></th>\n",
       "      <th>text</th>\n",
       "      <th>label</th>\n",
       "    </tr>\n",
       "  </thead>\n",
       "  <tbody>\n",
       "    <tr>\n",
       "      <th>1</th>\n",
       "      <td>[Web발신] 박춘규 회원님 손절주식은 그만 월급 배 만드는 법http://lco....</td>\n",
       "      <td>spam</td>\n",
       "    </tr>\n",
       "    <tr>\n",
       "      <th>2</th>\n",
       "      <td>[Web발신] 골든브릿지에서 손실을 보셨나요?? http://bitly.kr/bRG...</td>\n",
       "      <td>spam</td>\n",
       "    </tr>\n",
       "    <tr>\n",
       "      <th>3</th>\n",
       "      <td>[Web발신][대//박]가(.원) 입코(WN)드MEP. com</td>\n",
       "      <td>spam</td>\n",
       "    </tr>\n",
       "    <tr>\n",
       "      <th>4</th>\n",
       "      <td>[Web발신] (광고)이 정미님 아직도 주식하시나요 http://pf. kakao....</td>\n",
       "      <td>spam</td>\n",
       "    </tr>\n",
       "    <tr>\n",
       "      <th>5</th>\n",
       "      <td>[Web발신] 송승용님 사람이 모이는 곳에는 이유가 있습니다 하루~정보 공개 is....</td>\n",
       "      <td>spam</td>\n",
       "    </tr>\n",
       "    <tr>\n",
       "      <th>...</th>\n",
       "      <td>...</td>\n",
       "      <td>...</td>\n",
       "    </tr>\n",
       "    <tr>\n",
       "      <th>20096</th>\n",
       "      <td>[Web발신] 이상 투자 황기봉님\"이재훈 \"투자컨설 담당자 배정 완료.담당자 확인▼...</td>\n",
       "      <td>spam</td>\n",
       "    </tr>\n",
       "    <tr>\n",
       "      <th>20097</th>\n",
       "      <td>[Web발신] (광고) 조마?峙???충?矛 ?% : 까지 ↓주소 Jom a.카JM톡...</td>\n",
       "      <td>spam</td>\n",
       "    </tr>\n",
       "    <tr>\n",
       "      <th>20098</th>\n",
       "      <td>[Web발신] 김환택 님 지금이라도 늦지 않았습니다. 월 긴급 정보 http://p...</td>\n",
       "      <td>spam</td>\n",
       "    </tr>\n",
       "    <tr>\n",
       "      <th>20099</th>\n",
       "      <td>[Web발신] 년 노하우 명품 구매대행 논 스토리 nonstory. com 항상 아...</td>\n",
       "      <td>ham</td>\n",
       "    </tr>\n",
       "    <tr>\n",
       "      <th>20100</th>\n",
       "      <td>[Web발신] 최현님 월일 특급 정보! https://pf. kakao. com/_...</td>\n",
       "      <td>spam</td>\n",
       "    </tr>\n",
       "  </tbody>\n",
       "</table>\n",
       "<p>20088 rows × 2 columns</p>\n",
       "</div>"
      ],
      "text/plain": [
       "                                                    text label\n",
       "1      [Web발신] 박춘규 회원님 손절주식은 그만 월급 배 만드는 법http://lco....  spam\n",
       "2      [Web발신] 골든브릿지에서 손실을 보셨나요?? http://bitly.kr/bRG...  spam\n",
       "3                     [Web발신][대//박]가(.원) 입코(WN)드MEP. com  spam\n",
       "4      [Web발신] (광고)이 정미님 아직도 주식하시나요 http://pf. kakao....  spam\n",
       "5      [Web발신] 송승용님 사람이 모이는 곳에는 이유가 있습니다 하루~정보 공개 is....  spam\n",
       "...                                                  ...   ...\n",
       "20096  [Web발신] 이상 투자 황기봉님\"이재훈 \"투자컨설 담당자 배정 완료.담당자 확인▼...  spam\n",
       "20097  [Web발신] (광고) 조마?峙???충?矛 ?% : 까지 ↓주소 Jom a.카JM톡...  spam\n",
       "20098  [Web발신] 김환택 님 지금이라도 늦지 않았습니다. 월 긴급 정보 http://p...  spam\n",
       "20099  [Web발신] 년 노하우 명품 구매대행 논 스토리 nonstory. com 항상 아...   ham\n",
       "20100  [Web발신] 최현님 월일 특급 정보! https://pf. kakao. com/_...  spam\n",
       "\n",
       "[20088 rows x 2 columns]"
      ]
     },
     "execution_count": 6,
     "metadata": {},
     "output_type": "execute_result"
    }
   ],
   "source": [
    "spaced_spam"
   ]
  },
  {
   "cell_type": "code",
   "execution_count": 9,
   "id": "8718f103-9d54-4548-a776-ee35a3c21246",
   "metadata": {},
   "outputs": [],
   "source": [
    "stopwords = open('stopwords.txt', 'rt', encoding='utf-8' )\n",
    "stopwords_list = []\n",
    "for stopword in stopwords:\n",
    "    stopword = stopword.strip()\n",
    "    stopwords_list.append(stopword)\n",
    "    \n",
    "stopwords.close()"
   ]
  },
  {
   "cell_type": "code",
   "execution_count": 19,
   "id": "7598f16a-a729-4ec0-aff7-7b351014171c",
   "metadata": {},
   "outputs": [
    {
     "name": "stderr",
     "output_type": "stream",
     "text": [
      "100%|██████████| 20088/20088 [00:01<00:00, 17951.45it/s]\n"
     ]
    }
   ],
   "source": [
    "from tqdm import tqdm\n",
    "\n",
    "deleted_sen = []\n",
    "\n",
    "for sen in tqdm(spaced_spam['text']):\n",
    "    temp = []\n",
    "    for word in list(sen.split()):\n",
    "        if word not in stopwords_list:\n",
    "            temp.append(word)\n",
    "    deleted_sen.append(' '.join(temp))"
   ]
  },
  {
   "cell_type": "code",
   "execution_count": null,
   "id": "5b1e65ed-40a0-48ef-bca0-3300c3677b4b",
   "metadata": {},
   "outputs": [],
   "source": []
  },
  {
   "cell_type": "code",
   "execution_count": 21,
   "id": "64d8a33b-e866-461b-8a29-27ef283f5cba",
   "metadata": {},
   "outputs": [],
   "source": [
    "deleted_spam = pd.DataFrame({'text':deleted_sen, 'label':spaced_spam['label']})"
   ]
  },
  {
   "cell_type": "code",
   "execution_count": 23,
   "id": "31b5cdca-6b4e-42fa-9528-c044391cff2d",
   "metadata": {},
   "outputs": [],
   "source": [
    "deleted_spam.to_csv('deleted_spam.csv', index = False)"
   ]
  },
  {
   "cell_type": "markdown",
   "id": "6e6deab8-1031-43ec-8c96-7e79e92ffd57",
   "metadata": {},
   "source": [
    "# 데이터 증강"
   ]
  },
  {
   "cell_type": "code",
   "execution_count": 1,
   "id": "6263201d-ee57-4f1c-960e-055627613f00",
   "metadata": {},
   "outputs": [],
   "source": [
    "import pandas as pd\n",
    "from pykospacing import Spacing\n",
    "from tqdm import tqdm\n",
    "import sys"
   ]
  },
  {
   "cell_type": "code",
   "execution_count": 2,
   "id": "452be68a-6b24-42a9-967c-f2f85efa5b52",
   "metadata": {},
   "outputs": [],
   "source": [
    "sys.path.append('./eda.py')\n",
    "import eda"
   ]
  },
  {
   "cell_type": "code",
   "execution_count": 3,
   "id": "28f549ec-adb0-40ee-90ff-76595eceb243",
   "metadata": {},
   "outputs": [],
   "source": [
    "spam = pd.read_csv('spaced_spam.csv', encoding = 'UTF-8')\n",
    "spam.dropna(axis=0, inplace = True)"
   ]
  },
  {
   "cell_type": "code",
   "execution_count": 4,
   "id": "6ac3256e-aa67-4f37-8b71-496131290bd0",
   "metadata": {},
   "outputs": [
    {
     "data": {
      "text/html": [
       "<div>\n",
       "<style scoped>\n",
       "    .dataframe tbody tr th:only-of-type {\n",
       "        vertical-align: middle;\n",
       "    }\n",
       "\n",
       "    .dataframe tbody tr th {\n",
       "        vertical-align: top;\n",
       "    }\n",
       "\n",
       "    .dataframe thead th {\n",
       "        text-align: right;\n",
       "    }\n",
       "</style>\n",
       "<table border=\"1\" class=\"dataframe\">\n",
       "  <thead>\n",
       "    <tr style=\"text-align: right;\">\n",
       "      <th></th>\n",
       "      <th>text</th>\n",
       "      <th>label</th>\n",
       "    </tr>\n",
       "  </thead>\n",
       "  <tbody>\n",
       "    <tr>\n",
       "      <th>0</th>\n",
       "      <td>[Web발신] 박춘규 회원님 손절주식은 그만 월급 배 만드는 법http://lco....</td>\n",
       "      <td>spam</td>\n",
       "    </tr>\n",
       "    <tr>\n",
       "      <th>1</th>\n",
       "      <td>[Web발신] 골든브릿지에서 손실을 보셨나요?? http://bitly.kr/bRG...</td>\n",
       "      <td>spam</td>\n",
       "    </tr>\n",
       "    <tr>\n",
       "      <th>2</th>\n",
       "      <td>[Web발신][대//박]가(.원) 입코(WN)드MEP. com</td>\n",
       "      <td>spam</td>\n",
       "    </tr>\n",
       "    <tr>\n",
       "      <th>3</th>\n",
       "      <td>[Web발신] (광고)이 정미님 아직도 주식하시나요 http://pf. kakao....</td>\n",
       "      <td>spam</td>\n",
       "    </tr>\n",
       "    <tr>\n",
       "      <th>4</th>\n",
       "      <td>[Web발신] 송승용님 사람이 모이는 곳에는 이유가 있습니다 하루~정보 공개 is....</td>\n",
       "      <td>spam</td>\n",
       "    </tr>\n",
       "    <tr>\n",
       "      <th>...</th>\n",
       "      <td>...</td>\n",
       "      <td>...</td>\n",
       "    </tr>\n",
       "    <tr>\n",
       "      <th>20083</th>\n",
       "      <td>[Web발신] 이상 투자 황기봉님\"이재훈 \"투자컨설 담당자 배정 완료.담당자 확인▼...</td>\n",
       "      <td>spam</td>\n",
       "    </tr>\n",
       "    <tr>\n",
       "      <th>20084</th>\n",
       "      <td>[Web발신] (광고) 조마?峙???충?矛 ?% : 까지 ↓주소 Jom a.카JM톡...</td>\n",
       "      <td>spam</td>\n",
       "    </tr>\n",
       "    <tr>\n",
       "      <th>20085</th>\n",
       "      <td>[Web발신] 김환택 님 지금이라도 늦지 않았습니다. 월 긴급 정보 http://p...</td>\n",
       "      <td>spam</td>\n",
       "    </tr>\n",
       "    <tr>\n",
       "      <th>20086</th>\n",
       "      <td>[Web발신] 년 노하우 명품 구매대행 논 스토리 nonstory. com 항상 아...</td>\n",
       "      <td>ham</td>\n",
       "    </tr>\n",
       "    <tr>\n",
       "      <th>20087</th>\n",
       "      <td>[Web발신] 최현님 월일 특급 정보! https://pf. kakao. com/_...</td>\n",
       "      <td>spam</td>\n",
       "    </tr>\n",
       "  </tbody>\n",
       "</table>\n",
       "<p>20088 rows × 2 columns</p>\n",
       "</div>"
      ],
      "text/plain": [
       "                                                    text label\n",
       "0      [Web발신] 박춘규 회원님 손절주식은 그만 월급 배 만드는 법http://lco....  spam\n",
       "1      [Web발신] 골든브릿지에서 손실을 보셨나요?? http://bitly.kr/bRG...  spam\n",
       "2                     [Web발신][대//박]가(.원) 입코(WN)드MEP. com  spam\n",
       "3      [Web발신] (광고)이 정미님 아직도 주식하시나요 http://pf. kakao....  spam\n",
       "4      [Web발신] 송승용님 사람이 모이는 곳에는 이유가 있습니다 하루~정보 공개 is....  spam\n",
       "...                                                  ...   ...\n",
       "20083  [Web발신] 이상 투자 황기봉님\"이재훈 \"투자컨설 담당자 배정 완료.담당자 확인▼...  spam\n",
       "20084  [Web발신] (광고) 조마?峙???충?矛 ?% : 까지 ↓주소 Jom a.카JM톡...  spam\n",
       "20085  [Web발신] 김환택 님 지금이라도 늦지 않았습니다. 월 긴급 정보 http://p...  spam\n",
       "20086  [Web발신] 년 노하우 명품 구매대행 논 스토리 nonstory. com 항상 아...   ham\n",
       "20087  [Web발신] 최현님 월일 특급 정보! https://pf. kakao. com/_...  spam\n",
       "\n",
       "[20088 rows x 2 columns]"
      ]
     },
     "execution_count": 4,
     "metadata": {},
     "output_type": "execute_result"
    }
   ],
   "source": [
    "spam"
   ]
  },
  {
   "cell_type": "code",
   "execution_count": 5,
   "id": "e12625dd-2a30-49b3-9c00-4741b7a00a13",
   "metadata": {},
   "outputs": [
    {
     "name": "stderr",
     "output_type": "stream",
     "text": [
      "100%|██████████| 20088/20088 [00:01<00:00, 10973.22it/s]\n"
     ]
    }
   ],
   "source": [
    "eda_text = []\n",
    "labels = []\n",
    "\n",
    "num_aug = 2\n",
    "\n",
    "for text, label in zip(tqdm(spam['text']), spam['label']):\n",
    "    new_str = eda.EDA(text, alpha_sr=0.6, alpha_ri=0.6, alpha_rs=0.6, p_rd=0.6, num_aug=num_aug)\n",
    "    eda_text.extend(new_str)\n",
    "    labels.extend([label]*(num_aug+1))"
   ]
  },
  {
   "cell_type": "code",
   "execution_count": 6,
   "id": "eccfc1ac-a4ba-4a43-9932-480932e1b0e3",
   "metadata": {},
   "outputs": [
    {
     "data": {
      "text/plain": [
       "60264"
      ]
     },
     "execution_count": 6,
     "metadata": {},
     "output_type": "execute_result"
    }
   ],
   "source": [
    "len(eda_text)"
   ]
  },
  {
   "cell_type": "code",
   "execution_count": 7,
   "id": "88945e16-9af7-48ec-9a9c-ab960fac99fa",
   "metadata": {},
   "outputs": [],
   "source": [
    "new_df = pd.DataFrame({'text':eda_text, 'label':labels})"
   ]
  },
  {
   "cell_type": "code",
   "execution_count": 9,
   "id": "01fbed4f-9502-4c7a-8f94-086a3097e0b6",
   "metadata": {},
   "outputs": [],
   "source": [
    "new_df.to_csv('EDA_3_6.csv', index = False)"
   ]
  },
  {
   "cell_type": "code",
   "execution_count": null,
   "id": "8c50615f-14d2-4dd3-8bd2-08e17b1ad5f1",
   "metadata": {},
   "outputs": [],
   "source": []
  }
 ],
 "metadata": {
  "kernelspec": {
   "display_name": "Python 3",
   "language": "python",
   "name": "python3"
  },
  "language_info": {
   "codemirror_mode": {
    "name": "ipython",
    "version": 3
   },
   "file_extension": ".py",
   "mimetype": "text/x-python",
   "name": "python",
   "nbconvert_exporter": "python",
   "pygments_lexer": "ipython3",
   "version": "3.8.10"
  }
 },
 "nbformat": 4,
 "nbformat_minor": 5
}
